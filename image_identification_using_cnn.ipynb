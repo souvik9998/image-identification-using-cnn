{
  "nbformat": 4,
  "nbformat_minor": 0,
  "metadata": {
    "colab": {
      "provenance": [],
      "gpuType": "T4",
      "authorship_tag": "ABX9TyOjB1PJuxn9mKNHlcgy61Hr",
      "include_colab_link": true
    },
    "kernelspec": {
      "name": "python3",
      "display_name": "Python 3"
    },
    "language_info": {
      "name": "python"
    },
    "accelerator": "GPU",
    "gpuClass": "standard"
  },
  "cells": [
    {
      "cell_type": "markdown",
      "metadata": {
        "id": "view-in-github",
        "colab_type": "text"
      },
      "source": [
        "<a href=\"https://colab.research.google.com/github/souvik9998/image-identification-using-cnn/blob/main/image_identification_using_cnn.ipynb\" target=\"_parent\"><img src=\"https://colab.research.google.com/assets/colab-badge.svg\" alt=\"Open In Colab\"/></a>"
      ]
    },
    {
      "cell_type": "code",
      "execution_count": 1,
      "metadata": {
        "id": "IdXnikjmVpjC"
      },
      "outputs": [],
      "source": [
        "import zipfile\n",
        "zip_ref = zipfile.ZipFile('/content/dataset.zip', 'r')\n",
        "zip_ref.extractall('/content')\n",
        "zip_ref.close()"
      ]
    },
    {
      "cell_type": "code",
      "source": [
        "import os\n",
        "import tensorflow as tf\n",
        "from tensorflow import keras\n",
        "from keras import Sequential\n",
        "from keras.layers import Dense,Conv2D,MaxPooling2D,Flatten,BatchNormalization,Dropout\n",
        "from keras.preprocessing.image import ImageDataGenerator"
      ],
      "metadata": {
        "id": "LLJRqyLuZ3wM"
      },
      "execution_count": 2,
      "outputs": []
    },
    {
      "cell_type": "code",
      "source": [
        "train_datagen = ImageDataGenerator(\n",
        "        rescale=1./255,\n",
        "        shear_range=0.2,\n",
        "        zoom_range=0.2,\n",
        "        horizontal_flip=True)\n",
        "test_datagen = ImageDataGenerator(\n",
        "        rescale=1./255)\n",
        "train_dataset = train_datagen.flow_from_directory(\n",
        "        'train',\n",
        "        target_size=(64, 64),\n",
        "        batch_size=32,\n",
        "        class_mode='categorical')\n",
        "test_dataset = test_datagen.flow_from_directory(\n",
        "        'test',\n",
        "        target_size=(64, 64),\n",
        "        batch_size=32,\n",
        "        class_mode='categorical')"
      ],
      "metadata": {
        "colab": {
          "base_uri": "https://localhost:8080/"
        },
        "id": "LyTU4udVbUkl",
        "outputId": "be47625e-2568-4c7a-e133-aaff058a4063"
      },
      "execution_count": 39,
      "outputs": [
        {
          "output_type": "stream",
          "name": "stdout",
          "text": [
            "Found 1564 images belonging to 10 classes.\n",
            "Found 50 images belonging to 10 classes.\n"
          ]
        }
      ]
    },
    {
      "cell_type": "code",
      "source": [
        "model = tf.keras.Sequential([\n",
        "    tf.keras.layers.experimental.preprocessing.Rescaling(1./255),\n",
        "    tf.keras.layers.Conv2D(32, 3, activation='relu'),\n",
        "    tf.keras.layers.MaxPooling2D(),\n",
        "    tf.keras.layers.Conv2D(32, 3, activation='relu'),\n",
        "    tf.keras.layers.MaxPooling2D(),\n",
        "    tf.keras.layers.Conv2D(32, 3, activation='relu'),\n",
        "    tf.keras.layers.MaxPooling2D(),\n",
        "    tf.keras.layers.Flatten(),\n",
        "    tf.keras.layers.Dense(128, activation='relu'),\n",
        "    tf.keras.layers.Dense(units=10 , activation='softmax')\n",
        "])"
      ],
      "metadata": {
        "id": "LcWi9Yytc55m"
      },
      "execution_count": 18,
      "outputs": []
    },
    {
      "cell_type": "code",
      "source": [
        "cnn = tf.keras.models.Sequential()"
      ],
      "metadata": {
        "id": "Ez6Lp2vyhaHt"
      },
      "execution_count": 19,
      "outputs": []
    },
    {
      "cell_type": "code",
      "source": [
        "cnn.add(tf.keras.layers.Conv2D(filters=128 , kernel_size=3 , activation='relu' , input_shape=[64,64,3]))\n",
        "cnn.add(tf.keras.layers.MaxPool2D(pool_size=2,strides=2))"
      ],
      "metadata": {
        "id": "KusR4HeHhhco"
      },
      "execution_count": 20,
      "outputs": []
    },
    {
      "cell_type": "code",
      "source": [
        "cnn.add(tf.keras.layers.Conv2D(filters=128 , kernel_size=3 , activation='relu' ))\n",
        "cnn.add(tf.keras.layers.MaxPool2D(pool_size=2 , strides=2))"
      ],
      "metadata": {
        "id": "MSSdcrXFhjse"
      },
      "execution_count": 21,
      "outputs": []
    },
    {
      "cell_type": "code",
      "source": [
        "cnn.add(tf.keras.layers.Flatten())"
      ],
      "metadata": {
        "id": "nvfL_IOyhlvU"
      },
      "execution_count": 22,
      "outputs": []
    },
    {
      "cell_type": "code",
      "source": [
        "cnn.add(tf.keras.layers.Dense(units=512, activation='relu'))"
      ],
      "metadata": {
        "id": "Zlx3ldj9hojb"
      },
      "execution_count": 23,
      "outputs": []
    },
    {
      "cell_type": "code",
      "source": [
        "cnn.add(tf.keras.layers.Dense(units=10 , activation='softmax'))"
      ],
      "metadata": {
        "id": "diMcxWCnhrAO"
      },
      "execution_count": 27,
      "outputs": []
    },
    {
      "cell_type": "code",
      "source": [
        "cnn.compile(optimizer = 'adam' , loss = 'categorical_crossentropy' , metrics = ['accuracy'])"
      ],
      "metadata": {
        "id": "sc-Cw1yKfVP5"
      },
      "execution_count": 28,
      "outputs": []
    },
    {
      "cell_type": "code",
      "source": [
        "cnn.fit(x = train_dataset , validation_data = test_dataset , epochs = 10)"
      ],
      "metadata": {
        "colab": {
          "base_uri": "https://localhost:8080/"
        },
        "id": "6pj6RwhDfbIv",
        "outputId": "7b74e59b-0d76-4783-ae45-74edecf5bca5"
      },
      "execution_count": 54,
      "outputs": [
        {
          "output_type": "stream",
          "name": "stdout",
          "text": [
            "Epoch 1/10\n",
            "49/49 [==============================] - 60s 1s/step - loss: 0.8458 - accuracy: 0.6650 - val_loss: 0.8199 - val_accuracy: 0.6600\n",
            "Epoch 2/10\n",
            "49/49 [==============================] - 62s 1s/step - loss: 0.8365 - accuracy: 0.6637 - val_loss: 0.7698 - val_accuracy: 0.6800\n",
            "Epoch 3/10\n",
            "49/49 [==============================] - 60s 1s/step - loss: 0.7922 - accuracy: 0.6758 - val_loss: 0.7537 - val_accuracy: 0.6800\n",
            "Epoch 4/10\n",
            "49/49 [==============================] - 59s 1s/step - loss: 0.7940 - accuracy: 0.6758 - val_loss: 0.7719 - val_accuracy: 0.6800\n",
            "Epoch 5/10\n",
            "49/49 [==============================] - 61s 1s/step - loss: 0.7912 - accuracy: 0.6701 - val_loss: 0.7415 - val_accuracy: 0.6800\n",
            "Epoch 6/10\n",
            "49/49 [==============================] - 60s 1s/step - loss: 0.7648 - accuracy: 0.6746 - val_loss: 0.7212 - val_accuracy: 0.6800\n",
            "Epoch 7/10\n",
            "49/49 [==============================] - 59s 1s/step - loss: 0.7422 - accuracy: 0.6797 - val_loss: 0.7177 - val_accuracy: 0.6800\n",
            "Epoch 8/10\n",
            "49/49 [==============================] - 58s 1s/step - loss: 0.8059 - accuracy: 0.6630 - val_loss: 0.7764 - val_accuracy: 0.6600\n",
            "Epoch 9/10\n",
            "49/49 [==============================] - 62s 1s/step - loss: 0.7985 - accuracy: 0.6656 - val_loss: 0.7176 - val_accuracy: 0.6800\n",
            "Epoch 10/10\n",
            "49/49 [==============================] - 59s 1s/step - loss: 0.8323 - accuracy: 0.6592 - val_loss: 0.7904 - val_accuracy: 0.6800\n"
          ]
        },
        {
          "output_type": "execute_result",
          "data": {
            "text/plain": [
              "<keras.callbacks.History at 0x7fa305c7d3c0>"
            ]
          },
          "metadata": {},
          "execution_count": 54
        }
      ]
    },
    {
      "cell_type": "code",
      "source": [],
      "metadata": {
        "colab": {
          "base_uri": "https://localhost:8080/"
        },
        "id": "HnGt3JovxK2D",
        "outputId": "bd0a8ed2-4773-4c93-c3f6-b9a002d9a310"
      },
      "execution_count": 30,
      "outputs": [
        {
          "output_type": "execute_result",
          "data": {
            "text/plain": [
              "{'JANDAYA PARAKEET': 0,\n",
              " 'JAPANESE ROBIN': 1,\n",
              " 'JAVA SPARROW': 2,\n",
              " 'JOCOTOCO ANTPITTA': 3,\n",
              " 'KAGU': 4,\n",
              " 'KAKAPO': 5,\n",
              " 'KILLDEAR': 6,\n",
              " 'KING EIDER': 7,\n",
              " 'KING VULTURE': 8,\n",
              " 'KIWI': 9}"
            ]
          },
          "metadata": {},
          "execution_count": 30
        }
      ]
    },
    {
      "cell_type": "code",
      "source": [
        "cnn.save_weights('bird_model.h5')"
      ],
      "metadata": {
        "id": "6_ZpXhfb-RnB"
      },
      "execution_count": 55,
      "outputs": []
    },
    {
      "cell_type": "code",
      "source": [
        "cnn.save(r'bird_model.h5')"
      ],
      "metadata": {
        "id": "7EuzJesO-9LZ"
      },
      "execution_count": 56,
      "outputs": []
    },
    {
      "cell_type": "code",
      "source": [
        "cnn.load_weights('bird_model.h5')"
      ],
      "metadata": {
        "id": "1QdG52a__C3h"
      },
      "execution_count": 57,
      "outputs": []
    },
    {
      "cell_type": "code",
      "source": [
        "import numpy as np"
      ],
      "metadata": {
        "id": "bVcu80byyh1w"
      },
      "execution_count": 58,
      "outputs": []
    },
    {
      "cell_type": "code",
      "source": [
        "train_dataset.class_indices"
      ],
      "metadata": {
        "colab": {
          "base_uri": "https://localhost:8080/"
        },
        "id": "v4EbXOmg_H8H",
        "outputId": "2e2daf2f-012e-49bd-f77b-91cd87e8d86a"
      },
      "execution_count": 59,
      "outputs": [
        {
          "output_type": "execute_result",
          "data": {
            "text/plain": [
              "{'JANDAYA PARAKEET': 0,\n",
              " 'JAPANESE ROBIN': 1,\n",
              " 'JAVA SPARROW': 2,\n",
              " 'JOCOTOCO ANTPITTA': 3,\n",
              " 'KAGU': 4,\n",
              " 'KAKAPO': 5,\n",
              " 'KILLDEAR': 6,\n",
              " 'KING EIDER': 7,\n",
              " 'KING VULTURE': 8,\n",
              " 'KIWI': 9}"
            ]
          },
          "metadata": {},
          "execution_count": 59
        }
      ]
    },
    {
      "cell_type": "code",
      "source": [
        "import keras.utils as image\n",
        "test_image = image.load_img('parakeet.jpg',target_size=(64,64))\n",
        "test_image = image.img_to_array(test_image)\n",
        "test_image = np.expand_dims(test_image,axis=0)\n",
        "result = cnn.predict(test_image)"
      ],
      "metadata": {
        "colab": {
          "base_uri": "https://localhost:8080/"
        },
        "id": "g3moRBF4xd5l",
        "outputId": "98dbcd85-307f-40ae-a1ec-c0e769d90e1f"
      },
      "execution_count": 72,
      "outputs": [
        {
          "output_type": "stream",
          "name": "stdout",
          "text": [
            "1/1 [==============================] - 0s 62ms/step\n"
          ]
        }
      ]
    },
    {
      "cell_type": "code",
      "source": [
        "y_predicted = cnn.predict(test_image)\n",
        "y_predicted[0]"
      ],
      "metadata": {
        "colab": {
          "base_uri": "https://localhost:8080/"
        },
        "id": "CAYhfMVrypH4",
        "outputId": "0b3e1aa4-b731-4773-e6e8-ed5836169a2e"
      },
      "execution_count": 73,
      "outputs": [
        {
          "output_type": "stream",
          "name": "stdout",
          "text": [
            "1/1 [==============================] - 0s 60ms/step\n"
          ]
        },
        {
          "output_type": "execute_result",
          "data": {
            "text/plain": [
              "array([0.80818975, 0.03345547, 0.01009001, 0.00804202, 0.01131452,\n",
              "       0.05197348, 0.01708731, 0.02067784, 0.0141515 , 0.02501811],\n",
              "      dtype=float32)"
            ]
          },
          "metadata": {},
          "execution_count": 73
        }
      ]
    },
    {
      "cell_type": "code",
      "source": [
        "cn=np.argmax(y_predicted[0])\n",
        "print(cn)"
      ],
      "metadata": {
        "colab": {
          "base_uri": "https://localhost:8080/"
        },
        "id": "dxsmrdNQ_TW-",
        "outputId": "88fef1a4-319d-46de-f8f8-1de0bbe805ec"
      },
      "execution_count": 74,
      "outputs": [
        {
          "output_type": "stream",
          "name": "stdout",
          "text": [
            "0\n"
          ]
        }
      ]
    }
  ]
}