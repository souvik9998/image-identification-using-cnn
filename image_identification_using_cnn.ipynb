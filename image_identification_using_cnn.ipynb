{
  "nbformat": 4,
  "nbformat_minor": 0,
  "metadata": {
    "colab": {
      "provenance": [],
      "gpuType": "T4",
      "authorship_tag": "ABX9TyN01ogc80DEVZLrZvsfL+La",
      "include_colab_link": true
    },
    "kernelspec": {
      "name": "python3",
      "display_name": "Python 3"
    },
    "language_info": {
      "name": "python"
    },
    "accelerator": "GPU",
    "gpuClass": "standard"
  },
  "cells": [
    {
      "cell_type": "markdown",
      "metadata": {
        "id": "view-in-github",
        "colab_type": "text"
      },
      "source": [
        "<a href=\"https://colab.research.google.com/github/souvik9998/image-identification-using-cnn/blob/main/image_identification_using_cnn.ipynb\" target=\"_parent\"><img src=\"https://colab.research.google.com/assets/colab-badge.svg\" alt=\"Open In Colab\"/></a>"
      ]
    },
    {
      "cell_type": "code",
      "execution_count": 1,
      "metadata": {
        "id": "IdXnikjmVpjC"
      },
      "outputs": [],
      "source": [
        "import zipfile\n",
        "zip_ref = zipfile.ZipFile('/content/image_identification.zip', 'r')\n",
        "zip_ref.extractall('/content')\n",
        "zip_ref.close()"
      ]
    },
    {
      "cell_type": "code",
      "source": [
        "import os\n",
        "import tensorflow as tf\n",
        "from tensorflow import keras\n",
        "from keras import Sequential\n",
        "from keras.layers import Dense,Conv2D,MaxPooling2D,Flatten,BatchNormalization,Dropout\n",
        "from keras.preprocessing.image import ImageDataGenerator"
      ],
      "metadata": {
        "id": "LLJRqyLuZ3wM"
      },
      "execution_count": 2,
      "outputs": []
    },
    {
      "cell_type": "code",
      "source": [
        "train_datagen = ImageDataGenerator(\n",
        "        rescale=1./255,\n",
        "        shear_range=0.2,\n",
        "        zoom_range=0.2,\n",
        "        horizontal_flip=True)\n",
        "test_datagen = ImageDataGenerator(\n",
        "        rescale=1./255)\n",
        "train_dataset = train_datagen.flow_from_directory(\n",
        "        'train',\n",
        "        target_size=(64, 64),\n",
        "        batch_size=32,\n",
        "        class_mode='categorical')\n",
        "test_dataset = test_datagen.flow_from_directory(\n",
        "        'test',\n",
        "        target_size=(64, 64),\n",
        "        batch_size=32,\n",
        "        class_mode='categorical')"
      ],
      "metadata": {
        "colab": {
          "base_uri": "https://localhost:8080/"
        },
        "id": "LyTU4udVbUkl",
        "outputId": "e35b3a69-610c-47bf-921f-1575a5271215"
      },
      "execution_count": 3,
      "outputs": [
        {
          "output_type": "stream",
          "name": "stdout",
          "text": [
            "Found 1564 images belonging to 10 classes.\n",
            "Found 50 images belonging to 10 classes.\n"
          ]
        }
      ]
    },
    {
      "cell_type": "code",
      "source": [
        "model = tf.keras.Sequential([\n",
        "    tf.keras.layers.experimental.preprocessing.Rescaling(1./255),\n",
        "    tf.keras.layers.Conv2D(32, 3, activation='relu'),\n",
        "    tf.keras.layers.MaxPooling2D(),\n",
        "    tf.keras.layers.Conv2D(32, 3, activation='relu'),\n",
        "    tf.keras.layers.MaxPooling2D(),\n",
        "    tf.keras.layers.Conv2D(32, 3, activation='relu'),\n",
        "    tf.keras.layers.MaxPooling2D(),\n",
        "    tf.keras.layers.Flatten(),\n",
        "    tf.keras.layers.Dense(128, activation='relu'),\n",
        "    tf.keras.layers.Dense(units=10 , activation='softmax')\n",
        "])"
      ],
      "metadata": {
        "id": "LcWi9Yytc55m"
      },
      "execution_count": 4,
      "outputs": []
    },
    {
      "cell_type": "code",
      "source": [
        "cnn = tf.keras.models.Sequential()"
      ],
      "metadata": {
        "id": "Ez6Lp2vyhaHt"
      },
      "execution_count": 5,
      "outputs": []
    },
    {
      "cell_type": "code",
      "source": [
        "cnn.add(tf.keras.layers.Conv2D(filters=128 , kernel_size=3 , activation='relu' , input_shape=[64,64,3]))\n",
        "cnn.add(tf.keras.layers.MaxPool2D(pool_size=2,strides=2))"
      ],
      "metadata": {
        "id": "KusR4HeHhhco"
      },
      "execution_count": 6,
      "outputs": []
    },
    {
      "cell_type": "code",
      "source": [
        "cnn.add(tf.keras.layers.Conv2D(filters=128 , kernel_size=3 , activation='relu' ))\n",
        "cnn.add(tf.keras.layers.MaxPool2D(pool_size=2 , strides=2))"
      ],
      "metadata": {
        "id": "MSSdcrXFhjse"
      },
      "execution_count": 7,
      "outputs": []
    },
    {
      "cell_type": "code",
      "source": [
        "cnn.add(tf.keras.layers.Flatten())"
      ],
      "metadata": {
        "id": "nvfL_IOyhlvU"
      },
      "execution_count": 8,
      "outputs": []
    },
    {
      "cell_type": "code",
      "source": [
        "cnn.add(tf.keras.layers.Dense(units=512, activation='relu'))"
      ],
      "metadata": {
        "id": "Zlx3ldj9hojb"
      },
      "execution_count": 9,
      "outputs": []
    },
    {
      "cell_type": "code",
      "source": [
        "cnn.add(tf.keras.layers.Dense(units=10 , activation='softmax'))"
      ],
      "metadata": {
        "id": "diMcxWCnhrAO"
      },
      "execution_count": 10,
      "outputs": []
    },
    {
      "cell_type": "code",
      "source": [
        "cnn.compile(optimizer = 'adam' , loss = 'categorical_crossentropy' , metrics = ['accuracy'])"
      ],
      "metadata": {
        "id": "sc-Cw1yKfVP5"
      },
      "execution_count": 11,
      "outputs": []
    },
    {
      "cell_type": "code",
      "source": [
        "cnn.fit(x = train_dataset , validation_data = test_dataset , epochs = 10)"
      ],
      "metadata": {
        "colab": {
          "base_uri": "https://localhost:8080/"
        },
        "id": "6pj6RwhDfbIv",
        "outputId": "dcc7b4c5-f191-44f0-930b-e4250cbddb95"
      },
      "execution_count": 12,
      "outputs": [
        {
          "output_type": "stream",
          "name": "stdout",
          "text": [
            "Epoch 1/10\n",
            "49/49 [==============================] - 16s 95ms/step - loss: 1.7834 - accuracy: 0.3753 - val_loss: 0.8074 - val_accuracy: 0.7400\n",
            "Epoch 2/10\n",
            "49/49 [==============================] - 4s 84ms/step - loss: 0.9979 - accuracy: 0.6586 - val_loss: 0.7517 - val_accuracy: 0.7400\n",
            "Epoch 3/10\n",
            "49/49 [==============================] - 5s 102ms/step - loss: 0.7302 - accuracy: 0.7673 - val_loss: 0.3866 - val_accuracy: 0.8600\n",
            "Epoch 4/10\n",
            "49/49 [==============================] - 4s 85ms/step - loss: 0.5797 - accuracy: 0.8178 - val_loss: 0.5024 - val_accuracy: 0.8200\n",
            "Epoch 5/10\n",
            "49/49 [==============================] - 4s 86ms/step - loss: 0.4708 - accuracy: 0.8510 - val_loss: 0.5108 - val_accuracy: 0.8200\n",
            "Epoch 6/10\n",
            "49/49 [==============================] - 5s 91ms/step - loss: 0.4407 - accuracy: 0.8593 - val_loss: 0.3853 - val_accuracy: 0.8800\n",
            "Epoch 7/10\n",
            "49/49 [==============================] - 4s 85ms/step - loss: 0.3361 - accuracy: 0.9035 - val_loss: 0.3905 - val_accuracy: 0.9200\n",
            "Epoch 8/10\n",
            "49/49 [==============================] - 6s 121ms/step - loss: 0.2736 - accuracy: 0.9009 - val_loss: 0.2714 - val_accuracy: 0.8800\n",
            "Epoch 9/10\n",
            "49/49 [==============================] - 4s 84ms/step - loss: 0.3260 - accuracy: 0.8951 - val_loss: 0.4077 - val_accuracy: 0.9000\n",
            "Epoch 10/10\n",
            "49/49 [==============================] - 4s 85ms/step - loss: 0.2149 - accuracy: 0.9309 - val_loss: 0.3240 - val_accuracy: 0.8800\n"
          ]
        },
        {
          "output_type": "execute_result",
          "data": {
            "text/plain": [
              "<keras.callbacks.History at 0x7f0381feab30>"
            ]
          },
          "metadata": {},
          "execution_count": 12
        }
      ]
    },
    {
      "cell_type": "code",
      "source": [
        "cnn.save_weights('bird_model.h5')"
      ],
      "metadata": {
        "id": "6_ZpXhfb-RnB"
      },
      "execution_count": null,
      "outputs": []
    },
    {
      "cell_type": "code",
      "source": [
        "cnn.save(r'bird_model.h5')"
      ],
      "metadata": {
        "id": "7EuzJesO-9LZ"
      },
      "execution_count": null,
      "outputs": []
    },
    {
      "cell_type": "code",
      "source": [
        "cnn.load_weights('bird_model.h5')"
      ],
      "metadata": {
        "id": "1QdG52a__C3h"
      },
      "execution_count": null,
      "outputs": []
    },
    {
      "cell_type": "code",
      "source": [
        "import numpy as np"
      ],
      "metadata": {
        "id": "bVcu80byyh1w"
      },
      "execution_count": 13,
      "outputs": []
    },
    {
      "cell_type": "code",
      "source": [
        "train_dataset.class_indices"
      ],
      "metadata": {
        "colab": {
          "base_uri": "https://localhost:8080/"
        },
        "id": "v4EbXOmg_H8H",
        "outputId": "8e4e996b-7647-4593-d2bc-e89e8b2bdc1c"
      },
      "execution_count": 14,
      "outputs": [
        {
          "output_type": "execute_result",
          "data": {
            "text/plain": [
              "{'JANDAYA PARAKEET': 0,\n",
              " 'JAPANESE ROBIN': 1,\n",
              " 'JAVA SPARROW': 2,\n",
              " 'JOCOTOCO ANTPITTA': 3,\n",
              " 'KAGU': 4,\n",
              " 'KAKAPO': 5,\n",
              " 'KILLDEAR': 6,\n",
              " 'KING EIDER': 7,\n",
              " 'KING VULTURE': 8,\n",
              " 'KIWI': 9}"
            ]
          },
          "metadata": {},
          "execution_count": 14
        }
      ]
    },
    {
      "cell_type": "code",
      "source": [
        "import keras.utils as image\n",
        "test_image = image.load_img('5.jpg',target_size=(64,64))\n",
        "test_image = image.img_to_array(test_image)\n",
        "test_image = np.expand_dims(test_image,axis=0)\n",
        "result = cnn.predict(test_image)"
      ],
      "metadata": {
        "colab": {
          "base_uri": "https://localhost:8080/"
        },
        "id": "g3moRBF4xd5l",
        "outputId": "6cb07f6f-facb-494c-9735-6118fe0724a9"
      },
      "execution_count": 25,
      "outputs": [
        {
          "output_type": "stream",
          "name": "stdout",
          "text": [
            "1/1 [==============================] - 0s 21ms/step\n"
          ]
        }
      ]
    },
    {
      "cell_type": "code",
      "source": [
        "y_predicted = cnn.predict(test_image)\n",
        "y_predicted[0]"
      ],
      "metadata": {
        "colab": {
          "base_uri": "https://localhost:8080/"
        },
        "id": "CAYhfMVrypH4",
        "outputId": "a6a82b95-2140-44e2-a498-e9a90523fd1a"
      },
      "execution_count": 26,
      "outputs": [
        {
          "output_type": "stream",
          "name": "stdout",
          "text": [
            "1/1 [==============================] - 0s 20ms/step\n"
          ]
        },
        {
          "output_type": "execute_result",
          "data": {
            "text/plain": [
              "array([0., 0., 0., 0., 0., 0., 0., 0., 0., 1.], dtype=float32)"
            ]
          },
          "metadata": {},
          "execution_count": 26
        }
      ]
    },
    {
      "cell_type": "code",
      "source": [
        "cn=np.argmax(y_predicted[0])\n",
        "print(cn)"
      ],
      "metadata": {
        "colab": {
          "base_uri": "https://localhost:8080/"
        },
        "id": "dxsmrdNQ_TW-",
        "outputId": "0b19c9db-d5d3-4382-879b-d0cd31db3531"
      },
      "execution_count": 27,
      "outputs": [
        {
          "output_type": "stream",
          "name": "stdout",
          "text": [
            "9\n"
          ]
        }
      ]
    }
  ]
}